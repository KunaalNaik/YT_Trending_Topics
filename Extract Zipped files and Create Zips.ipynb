{
 "cells": [
  {
   "cell_type": "markdown",
   "metadata": {},
   "source": [
    "# Extract Zipped files and Create Zips"
   ]
  },
  {
   "cell_type": "code",
   "execution_count": null,
   "metadata": {},
   "outputs": [],
   "source": [
    "#for extracting Zip files\n",
    "from zipfile import ZipFile\n",
    "file_name='train.csv.zip'\n",
    "with ZipFile(file_name,'r') as zip:\n",
    "  zip.extractall()\n",
    "  print('train data extracted')\n",
    "\n",
    "from zipfile import ZipFile\n",
    "file_name='test.csv.zip'\n",
    "with ZipFile(file_name,'r') as zip:\n",
    "  zip.extractall()\n",
    "  print('test data extracted')"
   ]
  },
  {
   "cell_type": "code",
   "execution_count": null,
   "metadata": {},
   "outputs": [],
   "source": []
  }
 ],
 "metadata": {
  "kernelspec": {
   "display_name": "Python 3",
   "language": "python",
   "name": "python3"
  },
  "language_info": {
   "codemirror_mode": {
    "name": "ipython",
    "version": 3
   },
   "file_extension": ".py",
   "mimetype": "text/x-python",
   "name": "python",
   "nbconvert_exporter": "python",
   "pygments_lexer": "ipython3",
   "version": "3.7.6"
  }
 },
 "nbformat": 4,
 "nbformat_minor": 4
}
